{
  "nbformat": 4,
  "nbformat_minor": 0,
  "metadata": {
    "colab": {
      "provenance": [],
      "mount_file_id": "1WJDSu7oScUm40sThFKQZoAk4xCwofCIx",
      "authorship_tag": "ABX9TyO1MALq4RYaCMr4NpfrP3dw",
      "include_colab_link": true
    },
    "kernelspec": {
      "name": "python3",
      "display_name": "Python 3"
    },
    "language_info": {
      "name": "python"
    }
  },
  "cells": [
    {
      "cell_type": "markdown",
      "metadata": {
        "id": "view-in-github",
        "colab_type": "text"
      },
      "source": [
        "<a href=\"https://colab.research.google.com/github/carvelaz/DAGC_Info/blob/main/Copia_de_An%C3%A1lisis_de_Datos_Informa_Chaco.ipynb\" target=\"_parent\"><img src=\"https://colab.research.google.com/assets/colab-badge.svg\" alt=\"Open In Colab\"/></a>"
      ]
    },
    {
      "cell_type": "markdown",
      "source": [
        "# Análisis de Datos"
      ],
      "metadata": {
        "id": "Fx3gpvhttYmj"
      }
    },
    {
      "cell_type": "markdown",
      "source": [
        "# ETL (Extracción, Transformación y Carga)"
      ],
      "metadata": {
        "id": "8l45GDRvxkyj"
      }
    },
    {
      "cell_type": "markdown",
      "source": [
        "## 1.Extracción (Extract)"
      ],
      "metadata": {
        "id": "8Y3e8d24yRgE"
      }
    },
    {
      "cell_type": "code",
      "source": [
        "from google.colab import drive\n",
        "import pandas as pd\n",
        "import chardet\n",
        "\n",
        "# Montamos Google Drive para acceder al archivo\n",
        "drive.mount('/content/drive', force_remount=True)\n",
        "\n",
        "ruta_archivo = '/content/drive/MyDrive/Colab_Notebooks/ventas.csv'\n",
        "with open(ruta_archivo, 'rb') as f:\n",
        "    result = chardet.detect(f.read())\n",
        "\n",
        "try:\n",
        "    df = pd.read_csv(ruta_archivo, encoding=result['encoding'] , sep=';', decimal=',')\n",
        "    print('Extracción de datos exitosa')\n",
        "except FileNotFoundError:\n",
        "    print(f'El archivo no se encontró en la ruta especificada.{ruta_archivo}')\n",
        "\n",
        "# ruta_archivo = '/content/drive/MyDrive/Colab_Notebooks/ventas_transformadas.csv'\n",
        "# with open(ruta_archivo, 'rb') as f:\n",
        "#     result = chardet.detect(f.read())\n",
        "\n",
        "# try:\n",
        "#     df = pd.read_csv(ruta_archivo, encoding=result['encoding'] , sep=';', decimal=',')\n",
        "#     print('Extracción de datos exitosa')\n",
        "# except FileNotFoundError:\n",
        "#     print(f'El archivo no se encontró en la ruta especificada.{ruta_archivo}')\n"
      ],
      "metadata": {
        "colab": {
          "base_uri": "https://localhost:8080/"
        },
        "id": "xOC2C5GSxL2j",
        "outputId": "7f9c3ab3-1068-4bcd-cf2e-ace70fc8ec4c",
        "collapsed": true
      },
      "execution_count": 5,
      "outputs": [
        {
          "output_type": "stream",
          "name": "stdout",
          "text": [
            "Mounted at /content/drive\n",
            "Extracción de datos exitosa\n"
          ]
        }
      ]
    },
    {
      "cell_type": "code",
      "source": [
        "# Muestra las primeras 5 filas del Dataframe\n",
        "df.head(5)"
      ],
      "metadata": {
        "colab": {
          "base_uri": "https://localhost:8080/",
          "height": 206
        },
        "id": "awUi14Uz22F_",
        "outputId": "ae932f26-bb8b-49f8-b2d7-14ca9a3b16f4"
      },
      "execution_count": 6,
      "outputs": [
        {
          "output_type": "execute_result",
          "data": {
            "text/plain": [
              "  Tienda  Marca               Tipo  Gï¿½nero  Talla       Color  \\\n",
              "0   Lima  Asics             WB1820  Femenino     42        Azul   \n",
              "1   Lima  Asics  Kayano Single Tab    Usinex  42-44        Azul   \n",
              "2   Lima  Asics             WB1820  Femenino     37      Rosado   \n",
              "3   Lima  Asics             WB2585  Femenino     39       Negro   \n",
              "4   Lima  Asics             WB1820  Femenino     46  Multicolor   \n",
              "\n",
              "       Categoria precio de venta       Fecha      Hora  \n",
              "0       Pantalon           89.00  15/07/2015  07:32:00  \n",
              "1  Ropa interior           24.99  15/07/2015  07:33:00  \n",
              "2       Pantalon              89  15/07/2015  07:52:00  \n",
              "3       Pantalon              99  15/07/2015  07:58:00  \n",
              "4       Pantalon              89  15/07/2015  08:19:00  "
            ],
            "text/html": [
              "\n",
              "  <div id=\"df-87ef6de8-ac2b-4b0a-98e0-18566a1b8fb6\" class=\"colab-df-container\">\n",
              "    <div>\n",
              "<style scoped>\n",
              "    .dataframe tbody tr th:only-of-type {\n",
              "        vertical-align: middle;\n",
              "    }\n",
              "\n",
              "    .dataframe tbody tr th {\n",
              "        vertical-align: top;\n",
              "    }\n",
              "\n",
              "    .dataframe thead th {\n",
              "        text-align: right;\n",
              "    }\n",
              "</style>\n",
              "<table border=\"1\" class=\"dataframe\">\n",
              "  <thead>\n",
              "    <tr style=\"text-align: right;\">\n",
              "      <th></th>\n",
              "      <th>Tienda</th>\n",
              "      <th>Marca</th>\n",
              "      <th>Tipo</th>\n",
              "      <th>Gï¿½nero</th>\n",
              "      <th>Talla</th>\n",
              "      <th>Color</th>\n",
              "      <th>Categoria</th>\n",
              "      <th>precio de venta</th>\n",
              "      <th>Fecha</th>\n",
              "      <th>Hora</th>\n",
              "    </tr>\n",
              "  </thead>\n",
              "  <tbody>\n",
              "    <tr>\n",
              "      <th>0</th>\n",
              "      <td>Lima</td>\n",
              "      <td>Asics</td>\n",
              "      <td>WB1820</td>\n",
              "      <td>Femenino</td>\n",
              "      <td>42</td>\n",
              "      <td>Azul</td>\n",
              "      <td>Pantalon</td>\n",
              "      <td>89.00</td>\n",
              "      <td>15/07/2015</td>\n",
              "      <td>07:32:00</td>\n",
              "    </tr>\n",
              "    <tr>\n",
              "      <th>1</th>\n",
              "      <td>Lima</td>\n",
              "      <td>Asics</td>\n",
              "      <td>Kayano Single Tab</td>\n",
              "      <td>Usinex</td>\n",
              "      <td>42-44</td>\n",
              "      <td>Azul</td>\n",
              "      <td>Ropa interior</td>\n",
              "      <td>24.99</td>\n",
              "      <td>15/07/2015</td>\n",
              "      <td>07:33:00</td>\n",
              "    </tr>\n",
              "    <tr>\n",
              "      <th>2</th>\n",
              "      <td>Lima</td>\n",
              "      <td>Asics</td>\n",
              "      <td>WB1820</td>\n",
              "      <td>Femenino</td>\n",
              "      <td>37</td>\n",
              "      <td>Rosado</td>\n",
              "      <td>Pantalon</td>\n",
              "      <td>89</td>\n",
              "      <td>15/07/2015</td>\n",
              "      <td>07:52:00</td>\n",
              "    </tr>\n",
              "    <tr>\n",
              "      <th>3</th>\n",
              "      <td>Lima</td>\n",
              "      <td>Asics</td>\n",
              "      <td>WB2585</td>\n",
              "      <td>Femenino</td>\n",
              "      <td>39</td>\n",
              "      <td>Negro</td>\n",
              "      <td>Pantalon</td>\n",
              "      <td>99</td>\n",
              "      <td>15/07/2015</td>\n",
              "      <td>07:58:00</td>\n",
              "    </tr>\n",
              "    <tr>\n",
              "      <th>4</th>\n",
              "      <td>Lima</td>\n",
              "      <td>Asics</td>\n",
              "      <td>WB1820</td>\n",
              "      <td>Femenino</td>\n",
              "      <td>46</td>\n",
              "      <td>Multicolor</td>\n",
              "      <td>Pantalon</td>\n",
              "      <td>89</td>\n",
              "      <td>15/07/2015</td>\n",
              "      <td>08:19:00</td>\n",
              "    </tr>\n",
              "  </tbody>\n",
              "</table>\n",
              "</div>\n",
              "    <div class=\"colab-df-buttons\">\n",
              "\n",
              "  <div class=\"colab-df-container\">\n",
              "    <button class=\"colab-df-convert\" onclick=\"convertToInteractive('df-87ef6de8-ac2b-4b0a-98e0-18566a1b8fb6')\"\n",
              "            title=\"Convert this dataframe to an interactive table.\"\n",
              "            style=\"display:none;\">\n",
              "\n",
              "  <svg xmlns=\"http://www.w3.org/2000/svg\" height=\"24px\" viewBox=\"0 -960 960 960\">\n",
              "    <path d=\"M120-120v-720h720v720H120Zm60-500h600v-160H180v160Zm220 220h160v-160H400v160Zm0 220h160v-160H400v160ZM180-400h160v-160H180v160Zm440 0h160v-160H620v160ZM180-180h160v-160H180v160Zm440 0h160v-160H620v160Z\"/>\n",
              "  </svg>\n",
              "    </button>\n",
              "\n",
              "  <style>\n",
              "    .colab-df-container {\n",
              "      display:flex;\n",
              "      gap: 12px;\n",
              "    }\n",
              "\n",
              "    .colab-df-convert {\n",
              "      background-color: #E8F0FE;\n",
              "      border: none;\n",
              "      border-radius: 50%;\n",
              "      cursor: pointer;\n",
              "      display: none;\n",
              "      fill: #1967D2;\n",
              "      height: 32px;\n",
              "      padding: 0 0 0 0;\n",
              "      width: 32px;\n",
              "    }\n",
              "\n",
              "    .colab-df-convert:hover {\n",
              "      background-color: #E2EBFA;\n",
              "      box-shadow: 0px 1px 2px rgba(60, 64, 67, 0.3), 0px 1px 3px 1px rgba(60, 64, 67, 0.15);\n",
              "      fill: #174EA6;\n",
              "    }\n",
              "\n",
              "    .colab-df-buttons div {\n",
              "      margin-bottom: 4px;\n",
              "    }\n",
              "\n",
              "    [theme=dark] .colab-df-convert {\n",
              "      background-color: #3B4455;\n",
              "      fill: #D2E3FC;\n",
              "    }\n",
              "\n",
              "    [theme=dark] .colab-df-convert:hover {\n",
              "      background-color: #434B5C;\n",
              "      box-shadow: 0px 1px 3px 1px rgba(0, 0, 0, 0.15);\n",
              "      filter: drop-shadow(0px 1px 2px rgba(0, 0, 0, 0.3));\n",
              "      fill: #FFFFFF;\n",
              "    }\n",
              "  </style>\n",
              "\n",
              "    <script>\n",
              "      const buttonEl =\n",
              "        document.querySelector('#df-87ef6de8-ac2b-4b0a-98e0-18566a1b8fb6 button.colab-df-convert');\n",
              "      buttonEl.style.display =\n",
              "        google.colab.kernel.accessAllowed ? 'block' : 'none';\n",
              "\n",
              "      async function convertToInteractive(key) {\n",
              "        const element = document.querySelector('#df-87ef6de8-ac2b-4b0a-98e0-18566a1b8fb6');\n",
              "        const dataTable =\n",
              "          await google.colab.kernel.invokeFunction('convertToInteractive',\n",
              "                                                    [key], {});\n",
              "        if (!dataTable) return;\n",
              "\n",
              "        const docLinkHtml = 'Like what you see? Visit the ' +\n",
              "          '<a target=\"_blank\" href=https://colab.research.google.com/notebooks/data_table.ipynb>data table notebook</a>'\n",
              "          + ' to learn more about interactive tables.';\n",
              "        element.innerHTML = '';\n",
              "        dataTable['output_type'] = 'display_data';\n",
              "        await google.colab.output.renderOutput(dataTable, element);\n",
              "        const docLink = document.createElement('div');\n",
              "        docLink.innerHTML = docLinkHtml;\n",
              "        element.appendChild(docLink);\n",
              "      }\n",
              "    </script>\n",
              "  </div>\n",
              "\n",
              "\n",
              "    <div id=\"df-a76f90d0-1549-4d4f-aeea-891e4a9391bb\">\n",
              "      <button class=\"colab-df-quickchart\" onclick=\"quickchart('df-a76f90d0-1549-4d4f-aeea-891e4a9391bb')\"\n",
              "                title=\"Suggest charts\"\n",
              "                style=\"display:none;\">\n",
              "\n",
              "<svg xmlns=\"http://www.w3.org/2000/svg\" height=\"24px\"viewBox=\"0 0 24 24\"\n",
              "     width=\"24px\">\n",
              "    <g>\n",
              "        <path d=\"M19 3H5c-1.1 0-2 .9-2 2v14c0 1.1.9 2 2 2h14c1.1 0 2-.9 2-2V5c0-1.1-.9-2-2-2zM9 17H7v-7h2v7zm4 0h-2V7h2v10zm4 0h-2v-4h2v4z\"/>\n",
              "    </g>\n",
              "</svg>\n",
              "      </button>\n",
              "\n",
              "<style>\n",
              "  .colab-df-quickchart {\n",
              "      --bg-color: #E8F0FE;\n",
              "      --fill-color: #1967D2;\n",
              "      --hover-bg-color: #E2EBFA;\n",
              "      --hover-fill-color: #174EA6;\n",
              "      --disabled-fill-color: #AAA;\n",
              "      --disabled-bg-color: #DDD;\n",
              "  }\n",
              "\n",
              "  [theme=dark] .colab-df-quickchart {\n",
              "      --bg-color: #3B4455;\n",
              "      --fill-color: #D2E3FC;\n",
              "      --hover-bg-color: #434B5C;\n",
              "      --hover-fill-color: #FFFFFF;\n",
              "      --disabled-bg-color: #3B4455;\n",
              "      --disabled-fill-color: #666;\n",
              "  }\n",
              "\n",
              "  .colab-df-quickchart {\n",
              "    background-color: var(--bg-color);\n",
              "    border: none;\n",
              "    border-radius: 50%;\n",
              "    cursor: pointer;\n",
              "    display: none;\n",
              "    fill: var(--fill-color);\n",
              "    height: 32px;\n",
              "    padding: 0;\n",
              "    width: 32px;\n",
              "  }\n",
              "\n",
              "  .colab-df-quickchart:hover {\n",
              "    background-color: var(--hover-bg-color);\n",
              "    box-shadow: 0 1px 2px rgba(60, 64, 67, 0.3), 0 1px 3px 1px rgba(60, 64, 67, 0.15);\n",
              "    fill: var(--button-hover-fill-color);\n",
              "  }\n",
              "\n",
              "  .colab-df-quickchart-complete:disabled,\n",
              "  .colab-df-quickchart-complete:disabled:hover {\n",
              "    background-color: var(--disabled-bg-color);\n",
              "    fill: var(--disabled-fill-color);\n",
              "    box-shadow: none;\n",
              "  }\n",
              "\n",
              "  .colab-df-spinner {\n",
              "    border: 2px solid var(--fill-color);\n",
              "    border-color: transparent;\n",
              "    border-bottom-color: var(--fill-color);\n",
              "    animation:\n",
              "      spin 1s steps(1) infinite;\n",
              "  }\n",
              "\n",
              "  @keyframes spin {\n",
              "    0% {\n",
              "      border-color: transparent;\n",
              "      border-bottom-color: var(--fill-color);\n",
              "      border-left-color: var(--fill-color);\n",
              "    }\n",
              "    20% {\n",
              "      border-color: transparent;\n",
              "      border-left-color: var(--fill-color);\n",
              "      border-top-color: var(--fill-color);\n",
              "    }\n",
              "    30% {\n",
              "      border-color: transparent;\n",
              "      border-left-color: var(--fill-color);\n",
              "      border-top-color: var(--fill-color);\n",
              "      border-right-color: var(--fill-color);\n",
              "    }\n",
              "    40% {\n",
              "      border-color: transparent;\n",
              "      border-right-color: var(--fill-color);\n",
              "      border-top-color: var(--fill-color);\n",
              "    }\n",
              "    60% {\n",
              "      border-color: transparent;\n",
              "      border-right-color: var(--fill-color);\n",
              "    }\n",
              "    80% {\n",
              "      border-color: transparent;\n",
              "      border-right-color: var(--fill-color);\n",
              "      border-bottom-color: var(--fill-color);\n",
              "    }\n",
              "    90% {\n",
              "      border-color: transparent;\n",
              "      border-bottom-color: var(--fill-color);\n",
              "    }\n",
              "  }\n",
              "</style>\n",
              "\n",
              "      <script>\n",
              "        async function quickchart(key) {\n",
              "          const quickchartButtonEl =\n",
              "            document.querySelector('#' + key + ' button');\n",
              "          quickchartButtonEl.disabled = true;  // To prevent multiple clicks.\n",
              "          quickchartButtonEl.classList.add('colab-df-spinner');\n",
              "          try {\n",
              "            const charts = await google.colab.kernel.invokeFunction(\n",
              "                'suggestCharts', [key], {});\n",
              "          } catch (error) {\n",
              "            console.error('Error during call to suggestCharts:', error);\n",
              "          }\n",
              "          quickchartButtonEl.classList.remove('colab-df-spinner');\n",
              "          quickchartButtonEl.classList.add('colab-df-quickchart-complete');\n",
              "        }\n",
              "        (() => {\n",
              "          let quickchartButtonEl =\n",
              "            document.querySelector('#df-a76f90d0-1549-4d4f-aeea-891e4a9391bb button');\n",
              "          quickchartButtonEl.style.display =\n",
              "            google.colab.kernel.accessAllowed ? 'block' : 'none';\n",
              "        })();\n",
              "      </script>\n",
              "    </div>\n",
              "\n",
              "    </div>\n",
              "  </div>\n"
            ],
            "application/vnd.google.colaboratory.intrinsic+json": {
              "type": "dataframe",
              "variable_name": "df",
              "summary": "{\n  \"name\": \"df\",\n  \"rows\": 800,\n  \"fields\": [\n    {\n      \"column\": \"Tienda\",\n      \"properties\": {\n        \"dtype\": \"category\",\n        \"num_unique_values\": 2,\n        \"samples\": [\n          \"Provincias\",\n          \"Lima\"\n        ],\n        \"semantic_type\": \"\",\n        \"description\": \"\"\n      }\n    },\n    {\n      \"column\": \"Marca\",\n      \"properties\": {\n        \"dtype\": \"category\",\n        \"num_unique_values\": 3,\n        \"samples\": [\n          \"Asics\",\n          \"Nike\"\n        ],\n        \"semantic_type\": \"\",\n        \"description\": \"\"\n      }\n    },\n    {\n      \"column\": \"Tipo\",\n      \"properties\": {\n        \"dtype\": \"category\",\n        \"num_unique_values\": 21,\n        \"samples\": [\n          \"WB1820\",\n          \"Ultra Boost\"\n        ],\n        \"semantic_type\": \"\",\n        \"description\": \"\"\n      }\n    },\n    {\n      \"column\": \"G\\u00ef\\u00bf\\u00bdnero\",\n      \"properties\": {\n        \"dtype\": \"category\",\n        \"num_unique_values\": 3,\n        \"samples\": [\n          \"Femenino\",\n          \"Usinex\"\n        ],\n        \"semantic_type\": \"\",\n        \"description\": \"\"\n      }\n    },\n    {\n      \"column\": \"Talla\",\n      \"properties\": {\n        \"dtype\": \"category\",\n        \"num_unique_values\": 47,\n        \"samples\": [\n          \"65D\",\n          \"65B\"\n        ],\n        \"semantic_type\": \"\",\n        \"description\": \"\"\n      }\n    },\n    {\n      \"column\": \"Color\",\n      \"properties\": {\n        \"dtype\": \"category\",\n        \"num_unique_values\": 7,\n        \"samples\": [\n          \"Azul\",\n          \"Rosado\"\n        ],\n        \"semantic_type\": \"\",\n        \"description\": \"\"\n      }\n    },\n    {\n      \"column\": \"Categoria\",\n      \"properties\": {\n        \"dtype\": \"category\",\n        \"num_unique_values\": 4,\n        \"samples\": [\n          \"Ropa interior\",\n          \"Sujetadores\"\n        ],\n        \"semantic_type\": \"\",\n        \"description\": \"\"\n      }\n    },\n    {\n      \"column\": \"precio de venta\",\n      \"properties\": {\n        \"dtype\": \"category\",\n        \"num_unique_values\": 20,\n        \"samples\": [\n          \"89.00\",\n          \"100\"\n        ],\n        \"semantic_type\": \"\",\n        \"description\": \"\"\n      }\n    },\n    {\n      \"column\": \"Fecha\",\n      \"properties\": {\n        \"dtype\": \"object\",\n        \"num_unique_values\": 8,\n        \"samples\": [\n          \"16/07/2015\",\n          \"20/07/2015\"\n        ],\n        \"semantic_type\": \"\",\n        \"description\": \"\"\n      }\n    },\n    {\n      \"column\": \"Hora\",\n      \"properties\": {\n        \"dtype\": \"object\",\n        \"num_unique_values\": 489,\n        \"samples\": [\n          \"11:02:00\",\n          \"16:39:00\"\n        ],\n        \"semantic_type\": \"\",\n        \"description\": \"\"\n      }\n    }\n  ]\n}"
            }
          },
          "metadata": {},
          "execution_count": 6
        }
      ]
    },
    {
      "cell_type": "code",
      "source": [
        "# Generar estádisticas descriptivas de las comlumnas numéricas\n",
        "df.describe()"
      ],
      "metadata": {
        "colab": {
          "base_uri": "https://localhost:8080/",
          "height": 300
        },
        "id": "GlyvMR264n1f",
        "outputId": "e2a68d9b-35de-44b2-87e6-dc72291ff9e6"
      },
      "execution_count": null,
      "outputs": [
        {
          "output_type": "execute_result",
          "data": {
            "text/plain": [
              "           precio                     fecha_hora\n",
              "count  800.000000                            800\n",
              "mean    83.175112  2015-07-18 07:26:51.975000064\n",
              "min     12.990000            2015-07-15 07:32:00\n",
              "25%     21.000000            2015-07-16 13:04:30\n",
              "50%     89.000000            2015-07-17 16:28:00\n",
              "75%     99.000000            2015-07-19 23:36:00\n",
              "max    239.000000            2015-07-22 23:06:00\n",
              "std     55.146881                            NaN"
            ],
            "text/html": [
              "\n",
              "  <div id=\"df-b1299b2c-80df-4aa8-a263-433f58d0bffe\" class=\"colab-df-container\">\n",
              "    <div>\n",
              "<style scoped>\n",
              "    .dataframe tbody tr th:only-of-type {\n",
              "        vertical-align: middle;\n",
              "    }\n",
              "\n",
              "    .dataframe tbody tr th {\n",
              "        vertical-align: top;\n",
              "    }\n",
              "\n",
              "    .dataframe thead th {\n",
              "        text-align: right;\n",
              "    }\n",
              "</style>\n",
              "<table border=\"1\" class=\"dataframe\">\n",
              "  <thead>\n",
              "    <tr style=\"text-align: right;\">\n",
              "      <th></th>\n",
              "      <th>precio</th>\n",
              "      <th>fecha_hora</th>\n",
              "    </tr>\n",
              "  </thead>\n",
              "  <tbody>\n",
              "    <tr>\n",
              "      <th>count</th>\n",
              "      <td>800.000000</td>\n",
              "      <td>800</td>\n",
              "    </tr>\n",
              "    <tr>\n",
              "      <th>mean</th>\n",
              "      <td>83.175112</td>\n",
              "      <td>2015-07-18 07:26:51.975000064</td>\n",
              "    </tr>\n",
              "    <tr>\n",
              "      <th>min</th>\n",
              "      <td>12.990000</td>\n",
              "      <td>2015-07-15 07:32:00</td>\n",
              "    </tr>\n",
              "    <tr>\n",
              "      <th>25%</th>\n",
              "      <td>21.000000</td>\n",
              "      <td>2015-07-16 13:04:30</td>\n",
              "    </tr>\n",
              "    <tr>\n",
              "      <th>50%</th>\n",
              "      <td>89.000000</td>\n",
              "      <td>2015-07-17 16:28:00</td>\n",
              "    </tr>\n",
              "    <tr>\n",
              "      <th>75%</th>\n",
              "      <td>99.000000</td>\n",
              "      <td>2015-07-19 23:36:00</td>\n",
              "    </tr>\n",
              "    <tr>\n",
              "      <th>max</th>\n",
              "      <td>239.000000</td>\n",
              "      <td>2015-07-22 23:06:00</td>\n",
              "    </tr>\n",
              "    <tr>\n",
              "      <th>std</th>\n",
              "      <td>55.146881</td>\n",
              "      <td>NaN</td>\n",
              "    </tr>\n",
              "  </tbody>\n",
              "</table>\n",
              "</div>\n",
              "    <div class=\"colab-df-buttons\">\n",
              "\n",
              "  <div class=\"colab-df-container\">\n",
              "    <button class=\"colab-df-convert\" onclick=\"convertToInteractive('df-b1299b2c-80df-4aa8-a263-433f58d0bffe')\"\n",
              "            title=\"Convert this dataframe to an interactive table.\"\n",
              "            style=\"display:none;\">\n",
              "\n",
              "  <svg xmlns=\"http://www.w3.org/2000/svg\" height=\"24px\" viewBox=\"0 -960 960 960\">\n",
              "    <path d=\"M120-120v-720h720v720H120Zm60-500h600v-160H180v160Zm220 220h160v-160H400v160Zm0 220h160v-160H400v160ZM180-400h160v-160H180v160Zm440 0h160v-160H620v160ZM180-180h160v-160H180v160Zm440 0h160v-160H620v160Z\"/>\n",
              "  </svg>\n",
              "    </button>\n",
              "\n",
              "  <style>\n",
              "    .colab-df-container {\n",
              "      display:flex;\n",
              "      gap: 12px;\n",
              "    }\n",
              "\n",
              "    .colab-df-convert {\n",
              "      background-color: #E8F0FE;\n",
              "      border: none;\n",
              "      border-radius: 50%;\n",
              "      cursor: pointer;\n",
              "      display: none;\n",
              "      fill: #1967D2;\n",
              "      height: 32px;\n",
              "      padding: 0 0 0 0;\n",
              "      width: 32px;\n",
              "    }\n",
              "\n",
              "    .colab-df-convert:hover {\n",
              "      background-color: #E2EBFA;\n",
              "      box-shadow: 0px 1px 2px rgba(60, 64, 67, 0.3), 0px 1px 3px 1px rgba(60, 64, 67, 0.15);\n",
              "      fill: #174EA6;\n",
              "    }\n",
              "\n",
              "    .colab-df-buttons div {\n",
              "      margin-bottom: 4px;\n",
              "    }\n",
              "\n",
              "    [theme=dark] .colab-df-convert {\n",
              "      background-color: #3B4455;\n",
              "      fill: #D2E3FC;\n",
              "    }\n",
              "\n",
              "    [theme=dark] .colab-df-convert:hover {\n",
              "      background-color: #434B5C;\n",
              "      box-shadow: 0px 1px 3px 1px rgba(0, 0, 0, 0.15);\n",
              "      filter: drop-shadow(0px 1px 2px rgba(0, 0, 0, 0.3));\n",
              "      fill: #FFFFFF;\n",
              "    }\n",
              "  </style>\n",
              "\n",
              "    <script>\n",
              "      const buttonEl =\n",
              "        document.querySelector('#df-b1299b2c-80df-4aa8-a263-433f58d0bffe button.colab-df-convert');\n",
              "      buttonEl.style.display =\n",
              "        google.colab.kernel.accessAllowed ? 'block' : 'none';\n",
              "\n",
              "      async function convertToInteractive(key) {\n",
              "        const element = document.querySelector('#df-b1299b2c-80df-4aa8-a263-433f58d0bffe');\n",
              "        const dataTable =\n",
              "          await google.colab.kernel.invokeFunction('convertToInteractive',\n",
              "                                                    [key], {});\n",
              "        if (!dataTable) return;\n",
              "\n",
              "        const docLinkHtml = 'Like what you see? Visit the ' +\n",
              "          '<a target=\"_blank\" href=https://colab.research.google.com/notebooks/data_table.ipynb>data table notebook</a>'\n",
              "          + ' to learn more about interactive tables.';\n",
              "        element.innerHTML = '';\n",
              "        dataTable['output_type'] = 'display_data';\n",
              "        await google.colab.output.renderOutput(dataTable, element);\n",
              "        const docLink = document.createElement('div');\n",
              "        docLink.innerHTML = docLinkHtml;\n",
              "        element.appendChild(docLink);\n",
              "      }\n",
              "    </script>\n",
              "  </div>\n",
              "\n",
              "\n",
              "    <div id=\"df-84336fc1-4c01-4034-8d2e-60fa42fb5fd8\">\n",
              "      <button class=\"colab-df-quickchart\" onclick=\"quickchart('df-84336fc1-4c01-4034-8d2e-60fa42fb5fd8')\"\n",
              "                title=\"Suggest charts\"\n",
              "                style=\"display:none;\">\n",
              "\n",
              "<svg xmlns=\"http://www.w3.org/2000/svg\" height=\"24px\"viewBox=\"0 0 24 24\"\n",
              "     width=\"24px\">\n",
              "    <g>\n",
              "        <path d=\"M19 3H5c-1.1 0-2 .9-2 2v14c0 1.1.9 2 2 2h14c1.1 0 2-.9 2-2V5c0-1.1-.9-2-2-2zM9 17H7v-7h2v7zm4 0h-2V7h2v10zm4 0h-2v-4h2v4z\"/>\n",
              "    </g>\n",
              "</svg>\n",
              "      </button>\n",
              "\n",
              "<style>\n",
              "  .colab-df-quickchart {\n",
              "      --bg-color: #E8F0FE;\n",
              "      --fill-color: #1967D2;\n",
              "      --hover-bg-color: #E2EBFA;\n",
              "      --hover-fill-color: #174EA6;\n",
              "      --disabled-fill-color: #AAA;\n",
              "      --disabled-bg-color: #DDD;\n",
              "  }\n",
              "\n",
              "  [theme=dark] .colab-df-quickchart {\n",
              "      --bg-color: #3B4455;\n",
              "      --fill-color: #D2E3FC;\n",
              "      --hover-bg-color: #434B5C;\n",
              "      --hover-fill-color: #FFFFFF;\n",
              "      --disabled-bg-color: #3B4455;\n",
              "      --disabled-fill-color: #666;\n",
              "  }\n",
              "\n",
              "  .colab-df-quickchart {\n",
              "    background-color: var(--bg-color);\n",
              "    border: none;\n",
              "    border-radius: 50%;\n",
              "    cursor: pointer;\n",
              "    display: none;\n",
              "    fill: var(--fill-color);\n",
              "    height: 32px;\n",
              "    padding: 0;\n",
              "    width: 32px;\n",
              "  }\n",
              "\n",
              "  .colab-df-quickchart:hover {\n",
              "    background-color: var(--hover-bg-color);\n",
              "    box-shadow: 0 1px 2px rgba(60, 64, 67, 0.3), 0 1px 3px 1px rgba(60, 64, 67, 0.15);\n",
              "    fill: var(--button-hover-fill-color);\n",
              "  }\n",
              "\n",
              "  .colab-df-quickchart-complete:disabled,\n",
              "  .colab-df-quickchart-complete:disabled:hover {\n",
              "    background-color: var(--disabled-bg-color);\n",
              "    fill: var(--disabled-fill-color);\n",
              "    box-shadow: none;\n",
              "  }\n",
              "\n",
              "  .colab-df-spinner {\n",
              "    border: 2px solid var(--fill-color);\n",
              "    border-color: transparent;\n",
              "    border-bottom-color: var(--fill-color);\n",
              "    animation:\n",
              "      spin 1s steps(1) infinite;\n",
              "  }\n",
              "\n",
              "  @keyframes spin {\n",
              "    0% {\n",
              "      border-color: transparent;\n",
              "      border-bottom-color: var(--fill-color);\n",
              "      border-left-color: var(--fill-color);\n",
              "    }\n",
              "    20% {\n",
              "      border-color: transparent;\n",
              "      border-left-color: var(--fill-color);\n",
              "      border-top-color: var(--fill-color);\n",
              "    }\n",
              "    30% {\n",
              "      border-color: transparent;\n",
              "      border-left-color: var(--fill-color);\n",
              "      border-top-color: var(--fill-color);\n",
              "      border-right-color: var(--fill-color);\n",
              "    }\n",
              "    40% {\n",
              "      border-color: transparent;\n",
              "      border-right-color: var(--fill-color);\n",
              "      border-top-color: var(--fill-color);\n",
              "    }\n",
              "    60% {\n",
              "      border-color: transparent;\n",
              "      border-right-color: var(--fill-color);\n",
              "    }\n",
              "    80% {\n",
              "      border-color: transparent;\n",
              "      border-right-color: var(--fill-color);\n",
              "      border-bottom-color: var(--fill-color);\n",
              "    }\n",
              "    90% {\n",
              "      border-color: transparent;\n",
              "      border-bottom-color: var(--fill-color);\n",
              "    }\n",
              "  }\n",
              "</style>\n",
              "\n",
              "      <script>\n",
              "        async function quickchart(key) {\n",
              "          const quickchartButtonEl =\n",
              "            document.querySelector('#' + key + ' button');\n",
              "          quickchartButtonEl.disabled = true;  // To prevent multiple clicks.\n",
              "          quickchartButtonEl.classList.add('colab-df-spinner');\n",
              "          try {\n",
              "            const charts = await google.colab.kernel.invokeFunction(\n",
              "                'suggestCharts', [key], {});\n",
              "          } catch (error) {\n",
              "            console.error('Error during call to suggestCharts:', error);\n",
              "          }\n",
              "          quickchartButtonEl.classList.remove('colab-df-spinner');\n",
              "          quickchartButtonEl.classList.add('colab-df-quickchart-complete');\n",
              "        }\n",
              "        (() => {\n",
              "          let quickchartButtonEl =\n",
              "            document.querySelector('#df-84336fc1-4c01-4034-8d2e-60fa42fb5fd8 button');\n",
              "          quickchartButtonEl.style.display =\n",
              "            google.colab.kernel.accessAllowed ? 'block' : 'none';\n",
              "        })();\n",
              "      </script>\n",
              "    </div>\n",
              "\n",
              "    </div>\n",
              "  </div>\n"
            ],
            "application/vnd.google.colaboratory.intrinsic+json": {
              "type": "dataframe",
              "summary": "{\n  \"name\": \"df\",\n  \"rows\": 8,\n  \"fields\": [\n    {\n      \"column\": \"precio\",\n      \"properties\": {\n        \"dtype\": \"number\",\n        \"std\": 262.0394629360995,\n        \"min\": 12.99,\n        \"max\": 800.0,\n        \"num_unique_values\": 8,\n        \"samples\": [\n          83.1751125,\n          99.0,\n          800.0\n        ],\n        \"semantic_type\": \"\",\n        \"description\": \"\"\n      }\n    },\n    {\n      \"column\": \"fecha_hora\",\n      \"properties\": {\n        \"dtype\": \"date\",\n        \"min\": \"1970-01-01 00:00:00.000000800\",\n        \"max\": \"2015-07-22 23:06:00\",\n        \"num_unique_values\": 7,\n        \"samples\": [\n          \"800\",\n          \"2015-07-18 07:26:51.975000064\",\n          \"2015-07-19 23:36:00\"\n        ],\n        \"semantic_type\": \"\",\n        \"description\": \"\"\n      }\n    }\n  ]\n}"
            }
          },
          "metadata": {},
          "execution_count": 7
        }
      ]
    },
    {
      "cell_type": "code",
      "source": [
        "# Resumen de la información del Dataframe\n",
        "df.info()"
      ],
      "metadata": {
        "colab": {
          "base_uri": "https://localhost:8080/"
        },
        "id": "xYXGKOxe6P5s",
        "outputId": "804c795f-9a23-4454-b551-35856415e9c2"
      },
      "execution_count": 9,
      "outputs": [
        {
          "output_type": "stream",
          "name": "stdout",
          "text": [
            "<class 'pandas.core.frame.DataFrame'>\n",
            "RangeIndex: 800 entries, 0 to 799\n",
            "Data columns (total 9 columns):\n",
            " #   Column      Non-Null Count  Dtype         \n",
            "---  ------      --------------  -----         \n",
            " 0   tienda      800 non-null    object        \n",
            " 1   marca       800 non-null    object        \n",
            " 2   tipo        800 non-null    object        \n",
            " 3   genero      800 non-null    object        \n",
            " 4   talla       800 non-null    object        \n",
            " 5   color       800 non-null    object        \n",
            " 6   categoria   800 non-null    object        \n",
            " 7   precio      800 non-null    float64       \n",
            " 8   fecha_hora  800 non-null    datetime64[ns]\n",
            "dtypes: datetime64[ns](1), float64(1), object(7)\n",
            "memory usage: 56.4+ KB\n"
          ]
        }
      ]
    },
    {
      "cell_type": "markdown",
      "source": [
        "##2.Transformación (Transform)"
      ],
      "metadata": {
        "id": "QMWdg8dW4NeI"
      }
    },
    {
      "cell_type": "code",
      "source": [
        "# Renombrar columnas para facilitar el acceso y evitar caracteres especiales\n",
        "df.rename(columns = {\n",
        "    'Tienda': 'tienda',\n",
        "    'Marca': 'marca',\n",
        "    'Tipo': 'tipo',\n",
        "    'Gï¿½nero': 'genero',\n",
        "    'Talla': 'talla',\n",
        "    'Color': 'color',\n",
        "    'Categoria': 'categoria',\n",
        "    'precio de venta': 'precio',\n",
        "    'Fecha': 'fecha',\n",
        "    'Hora': 'hora'\n",
        "}, inplace=True)\n",
        "\n",
        "print('Transformación de datos exitosa')"
      ],
      "metadata": {
        "id": "XlLwlfMA7FRD",
        "colab": {
          "base_uri": "https://localhost:8080/"
        },
        "outputId": "1f5d345a-5b69-4b7e-b1fc-2e48a1a25a2c"
      },
      "execution_count": 7,
      "outputs": [
        {
          "output_type": "stream",
          "name": "stdout",
          "text": [
            "Transformación de datos exitosa\n"
          ]
        }
      ]
    },
    {
      "cell_type": "code",
      "source": [
        "# Converti la columna 'precio' a numérica y redondear a 2 decimales\n",
        "df['precio'] = df['precio'].astype(str)\n",
        "df['precio'] = df['precio'].str.replace(',', '.', regex=True).astype(float).round(2)\n",
        "\n",
        "# Limpiar y unificar los datos de la columna 'genero'\n",
        "df['genero'] = df['genero'].str.replace('Masculino', 'M',regex=False).str.replace('Femenino', 'F', regex=False).str.replace('Usinex', 'U', regex=False)\n",
        "\n",
        "# Crear una columna de fecha y hora combinada y convertirla al tipo datatime\n",
        "df['fecha_hora'] = pd.to_datetime(df['fecha'] + ' ' + df['hora'], format='%d/%m/%Y %H:%M:%S')\n",
        "\n",
        "# Eliminar las columnas fecha y hora y dejar solo 'fecha_hora'\n",
        "df.drop(['fecha', 'hora'], axis=1, inplace=True)\n"
      ],
      "metadata": {
        "id": "8wWWe3SxffAu"
      },
      "execution_count": 8,
      "outputs": []
    },
    {
      "cell_type": "code",
      "source": [
        "# Converti la columna 'precio' a numérica y redondear a 2 decimales\n",
        "df['precio'] = df['precio'].astype(str)\n",
        "df['precio'] = df['precio'].str.replace(',', '.', regex=True).astype(float).round(2)\n",
        "\n",
        "print('Transformación de datos exitosa')\n",
        "df.head(5)"
      ],
      "metadata": {
        "id": "fuqa8tXxCmBy"
      },
      "execution_count": null,
      "outputs": []
    },
    {
      "cell_type": "code",
      "source": [
        "# Limpiar y unificar los datos de la columna 'genero'\n",
        "df['genero'] = df['genero'].str.replace('Masculino', 'M',regex=False).str.replace('Femenino', 'F', regex=False).str.replace('Usinex', 'U', regex=False)\n",
        "\n",
        "print('Transformación de datos exitosa')\n",
        "df.head(5)"
      ],
      "metadata": {
        "id": "aozejKjICwZ5"
      },
      "execution_count": null,
      "outputs": []
    },
    {
      "cell_type": "code",
      "source": [
        "# Crear una columna de fecha y hora combinada y convertirla al tipo datatime\n",
        "df['fecha_hora'] = pd.to_datetime(df['fecha'] + ' ' + df['hora'], format='%d/%m/%Y %H:%M:%S')\n",
        "\n",
        "print('Transformación de datos exitosa')\n",
        "df.head(5)"
      ],
      "metadata": {
        "id": "Y_dkCAMUC0Bf"
      },
      "execution_count": null,
      "outputs": []
    },
    {
      "cell_type": "code",
      "source": [
        "# Eliminar las columnas fecha y hora y dejar solo 'fecha_hora'\n",
        "df.drop(['fecha', 'hora'], axis=1, inplace=True)\n",
        "\n",
        "print('Transformación de datos exitosa')\n",
        "df.head(5)"
      ],
      "metadata": {
        "id": "GF9UWqZsC59K"
      },
      "execution_count": null,
      "outputs": []
    },
    {
      "cell_type": "code",
      "source": [
        "# Dedocráticamente tomamos la primera aparición numérica y descartamos el resto.\n",
        "# Tomamos el valor de la izquierda si hay un guión\n",
        "#df['talla'] = df['talla'].astype(str).apply(lambda x: x.split('-')[0].split('/')[0].split(' ')[0])\n",
        "\n",
        "# Ahora, convertimos a tipo numérico (entero)\n",
        "#df['talla'] = pd.to_numeric(df['talla'], errors='coerce').astype('Int64')\n",
        "\n",
        "# Eliminar filas con tallas nulas o no numéricas después de la conversión\n",
        "# Pero perdemos datos al hacerlos por los dataframes que tiene letras en talle\n",
        "#df = df.dropna(subset=['talla'])\n",
        "\n",
        "# Chequeamos que valores se encuentran en el dataset 'talla'\n",
        "print(df['talla'].unique())"
      ],
      "metadata": {
        "colab": {
          "base_uri": "https://localhost:8080/"
        },
        "id": "QH6viKUtDAmX",
        "outputId": "556eb9dc-de66-4015-b3cf-874458eecfe7"
      },
      "execution_count": 10,
      "outputs": [
        {
          "output_type": "stream",
          "name": "stdout",
          "text": [
            "['42' '42-44' '37' '39' '46' '38' '38-40' '44' '40' '70F' '41' '45'\n",
            " '36-38' '40-42' '46-48' '80A' '80B' '80C' '43' '36' '80F' '44-46' '85F'\n",
            " '70B' '80E' '90B' '90F' '65D' '70D' '75D' '70E' '90E' '85D' '65E' '75A'\n",
            " '75B' '80D' '85A' '75E' '65B' '75F' '90D' '85C' '65F' '75C' '65A' '65C']\n"
          ]
        }
      ]
    },
    {
      "cell_type": "code",
      "source": [
        "print(df['categoria'].unique())"
      ],
      "metadata": {
        "colab": {
          "base_uri": "https://localhost:8080/"
        },
        "id": "vAHXacJagiRa",
        "outputId": "9fe19e4d-73b4-4e71-d53b-d79e7cbb297b"
      },
      "execution_count": 11,
      "outputs": [
        {
          "output_type": "stream",
          "name": "stdout",
          "text": [
            "['Pantalon' 'Ropa interior' 'Zapatillas' 'Sujetadores']\n"
          ]
        }
      ]
    },
    {
      "cell_type": "code",
      "source": [
        "print(df.groupby('categoria')['talla'].unique())"
      ],
      "metadata": {
        "id": "PF1TB8X9e72y",
        "colab": {
          "base_uri": "https://localhost:8080/"
        },
        "outputId": "9a379fee-55dd-4df1-a39a-ae6740403d65"
      },
      "execution_count": 12,
      "outputs": [
        {
          "output_type": "stream",
          "name": "stdout",
          "text": [
            "categoria\n",
            "Pantalon              [42, 37, 39, 46, 38, 40, 41, 45, 43, 36, 44]\n",
            "Ropa interior           [42-44, 38-40, 36-38, 40-42, 46-48, 44-46]\n",
            "Sujetadores      [70F, 80A, 80B, 80C, 80F, 85F, 70B, 80E, 90B, ...\n",
            "Zapatillas            [44, 39, 42, 37, 38, 41, 40, 43, 45, 46, 36]\n",
            "Name: talla, dtype: object\n"
          ]
        }
      ]
    },
    {
      "cell_type": "code",
      "source": [
        "print(df.groupby('tipo')['talla'].unique())"
      ],
      "metadata": {
        "colab": {
          "base_uri": "https://localhost:8080/"
        },
        "id": "0s4lnAsPxsqD",
        "outputId": "c51c946d-37f1-4223-bd75-8666f1f26bc6"
      },
      "execution_count": 13,
      "outputs": [
        {
          "output_type": "stream",
          "name": "stdout",
          "text": [
            "tipo\n",
            "Air Zoom                                                [42, 44, 38, 45, 36, 43, 39, 40]\n",
            "Boston 5                                            [36, 42, 37, 40, 46, 41, 43, 39, 44]\n",
            "Cummulus 17                                 [44, 38, 39, 40, 41, 46, 43, 37, 45, 36, 42]\n",
            "Dri-Fit No-Show                               [40-42, 42-44, 46-48, 44-46, 38-40, 36-38]\n",
            "Free 5.0                                        [38, 40, 43, 45, 37, 42, 46, 36, 44, 39]\n",
            "Gel Quantics                                                                [37, 46, 41]\n",
            "Hera Deux Single Tab                          [42-44, 40-42, 46-48, 38-40, 36-38, 44-46]\n",
            "Hyper Elite Crew                              [38-40, 44-46, 40-42, 42-44, 36-38, 46-48]\n",
            "Kayano Single Tab                             [42-44, 44-46, 36-38, 46-48, 40-42, 38-40]\n",
            "MB1878                                      [38, 46, 37, 40, 44, 42, 43, 41, 39, 36, 45]\n",
            "Nike Elite Match Fit Mercurial Crew           [38-40, 36-38, 42-44, 46-48, 40-42, 44-46]\n",
            "Nimbus 17                                                   [39, 41, 44, 46, 42, 38, 43]\n",
            "Pro Classic                                          [70F, 70E, 65E, 75B, 75F, 90F, 75E]\n",
            "Pro Fierce                             [70F, 80B, 80C, 85F, 70B, 90B, 90F, 90E, 70D, ...\n",
            "Pro Hero                               [80A, 65D, 70D, 75D, 80D, 85F, 80B, 65B, 90D, ...\n",
            "Pro Indy                                        [80F, 80E, 85D, 70F, 65E, 70D, 70E, 65C]\n",
            "Quick Light Cushion                           [36-38, 40-42, 46-48, 42-44, 38-40, 44-46]\n",
            "Rocket Boost                                        [43, 46, 39, 45, 41, 36, 44, 37, 40]\n",
            "Ultra Boost                                                     [41, 46, 36, 44, 39, 38]\n",
            "WB1820                                      [42, 37, 46, 39, 40, 41, 45, 38, 43, 36, 44]\n",
            "WB2585                                          [39, 46, 40, 44, 41, 38, 37, 36, 45, 43]\n",
            "Name: talla, dtype: object\n"
          ]
        }
      ]
    },
    {
      "cell_type": "code",
      "source": [
        "print(df.groupby(['tienda','marca'])['precio'].sum().reset_index())"
      ],
      "metadata": {
        "colab": {
          "base_uri": "https://localhost:8080/"
        },
        "id": "e8blfWoUvw-B",
        "outputId": "4e7effdc-ec8d-4b31-eaab-f5476ca8a183"
      },
      "execution_count": 14,
      "outputs": [
        {
          "output_type": "stream",
          "name": "stdout",
          "text": [
            "       tienda   marca    precio\n",
            "0        Lima  Adidas   5073.00\n",
            "1        Lima   Asics  24592.39\n",
            "2        Lima    Nike  19633.00\n",
            "3  Provincias  Adidas   1184.00\n",
            "4  Provincias   Asics  14119.70\n",
            "5  Provincias    Nike   1938.00\n"
          ]
        }
      ]
    },
    {
      "cell_type": "code",
      "source": [
        "df.info()"
      ],
      "metadata": {
        "colab": {
          "base_uri": "https://localhost:8080/"
        },
        "id": "Uwlv5LNCykwe",
        "outputId": "9d1d4752-c91d-4733-8cf4-121eb8a7c221"
      },
      "execution_count": 15,
      "outputs": [
        {
          "output_type": "stream",
          "name": "stdout",
          "text": [
            "<class 'pandas.core.frame.DataFrame'>\n",
            "RangeIndex: 800 entries, 0 to 799\n",
            "Data columns (total 9 columns):\n",
            " #   Column      Non-Null Count  Dtype         \n",
            "---  ------      --------------  -----         \n",
            " 0   tienda      800 non-null    object        \n",
            " 1   marca       800 non-null    object        \n",
            " 2   tipo        800 non-null    object        \n",
            " 3   genero      800 non-null    object        \n",
            " 4   talla       800 non-null    object        \n",
            " 5   color       800 non-null    object        \n",
            " 6   categoria   800 non-null    object        \n",
            " 7   precio      800 non-null    float64       \n",
            " 8   fecha_hora  800 non-null    datetime64[ns]\n",
            "dtypes: datetime64[ns](1), float64(1), object(7)\n",
            "memory usage: 56.4+ KB\n"
          ]
        }
      ]
    },
    {
      "cell_type": "markdown",
      "source": [
        "##3. Carga (Load)"
      ],
      "metadata": {
        "id": "vK4xxUNHyxtQ"
      }
    },
    {
      "cell_type": "code",
      "source": [
        "# Definir la ruta de salida apra guardar el nuevo CSV\n",
        "ruta_salida = '/content/drive/MyDrive/Colab_Notebooks/ventas_transformadas.csv'\n",
        "\n",
        "#Guardar el dataframe transformado en un nuevo archivo CSV en Drive\n",
        "df.to_csv(ruta_salida, index=False, sep=',')\n",
        "print(f'El archivo se ha guardado en: {ruta_salida}')"
      ],
      "metadata": {
        "colab": {
          "base_uri": "https://localhost:8080/"
        },
        "id": "rTnDZtbTy8og",
        "outputId": "da41ae62-41ec-4409-e053-f11d6e61762b"
      },
      "execution_count": 16,
      "outputs": [
        {
          "output_type": "stream",
          "name": "stdout",
          "text": [
            "El archivo se ha guardado en: /content/drive/MyDrive/Colab_Notebooks/ventas_transformadas.csv\n"
          ]
        }
      ]
    },
    {
      "cell_type": "code",
      "source": [],
      "metadata": {
        "id": "sCVehioHZ54D"
      },
      "execution_count": null,
      "outputs": []
    }
  ]
}